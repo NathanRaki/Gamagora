{
 "cells": [
  {
   "cell_type": "markdown",
   "id": "b7d5c6db",
   "metadata": {},
   "source": [
    "### Genetic Algorithm"
   ]
  },
  {
   "cell_type": "code",
   "execution_count": 7,
   "id": "3b2f598f",
   "metadata": {},
   "outputs": [],
   "source": [
    "nbGenerations = 100\n",
    "nbIndividuals = 100\n",
    "top = 15\n",
    "\n",
    "houses = {\n",
    "    \"A\" : { \"B\" : 4, \"C\" : 3, \"D\" : 1 },\n",
    "    \"B\" : { \"A\" : 4, \"C\" : 1, \"D\" : 2 },\n",
    "    \"C\" : { \"A\" : 3, \"B\" : 1, \"D\" : 5 },\n",
    "    \"D\" : { \"A\" : 1, \"B\" : 2, \"C\" : 5 },\n",
    "}"
   ]
  },
  {
   "cell_type": "code",
   "execution_count": 8,
   "id": "d4492594",
   "metadata": {},
   "outputs": [],
   "source": [
    "class Individual():\n",
    "    \n",
    "    def __init__(self, path, travel):\n",
    "        self.path = path\n",
    "        self.travel = travel\n",
    "        "
   ]
  },
  {
   "cell_type": "code",
   "execution_count": 11,
   "id": "10f831d2",
   "metadata": {},
   "outputs": [],
   "source": [
    "import random\n",
    "\n",
    "individuals = []\n",
    "for x in range(nbIndividuals):\n",
    "    path = [\"A\", \"B\", \"C\", \"D\"]\n",
    "    random.shuffle(path)\n",
    "    individuals.append(Individual(path, 0))"
   ]
  },
  {
   "cell_type": "code",
   "execution_count": 35,
   "id": "7e46644b",
   "metadata": {
    "scrolled": true
   },
   "outputs": [],
   "source": [
    "for x in range(nbGenerations):\n",
    "    for individual in individuals:\n",
    "        travel = 0\n",
    "        for p in range(len(individual.path)-1):\n",
    "            travel += houses[individual.path[p]][individual.path[p+1]]\n",
    "        individual.travel = travel\n",
    "    \n",
    "    individuals.sort(key=lambda x: x.travel)\n",
    "    cursor = top / 100.0 * nbIndividuals\n",
    "    \n",
    "    random.seed()\n",
    "    for y in range(int(cursor), len(individuals)):\n",
    "        p1 = random.randrange(0, cursor-1)\n",
    "        p2 = random.randrange(0, cursor-1)\n",
    "        left = [individuals[p1].path[0], individuals[p1].path[1]]\n",
    "        individuals[y].path = "
   ]
  }
 ],
 "metadata": {
  "celltoolbar": "Format de la Cellule Texte Brut",
  "kernelspec": {
   "display_name": "Python 3",
   "language": "python",
   "name": "python3"
  },
  "language_info": {
   "codemirror_mode": {
    "name": "ipython",
    "version": 3
   },
   "file_extension": ".py",
   "mimetype": "text/x-python",
   "name": "python",
   "nbconvert_exporter": "python",
   "pygments_lexer": "ipython3",
   "version": "3.8.8"
  }
 },
 "nbformat": 4,
 "nbformat_minor": 5
}
